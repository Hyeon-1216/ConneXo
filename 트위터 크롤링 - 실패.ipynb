{
 "cells": [
  {
   "cell_type": "code",
   "execution_count": 1,
   "id": "31ab53f8-42ab-43c2-8902-d85894b6356a",
   "metadata": {},
   "outputs": [
    {
     "name": "stdout",
     "output_type": "stream",
     "text": [
      "Collecting python-twitter\n",
      "  Downloading python_twitter-3.5-py2.py3-none-any.whl.metadata (32 kB)\n",
      "Collecting future (from python-twitter)\n",
      "  Downloading future-1.0.0-py3-none-any.whl.metadata (4.0 kB)\n",
      "Requirement already satisfied: requests in c:\\users\\sc051\\anaconda3\\lib\\site-packages (from python-twitter) (2.32.2)\n",
      "Collecting requests-oauthlib (from python-twitter)\n",
      "  Downloading requests_oauthlib-2.0.0-py2.py3-none-any.whl.metadata (11 kB)\n",
      "Requirement already satisfied: charset-normalizer<4,>=2 in c:\\users\\sc051\\anaconda3\\lib\\site-packages (from requests->python-twitter) (2.0.4)\n",
      "Requirement already satisfied: idna<4,>=2.5 in c:\\users\\sc051\\anaconda3\\lib\\site-packages (from requests->python-twitter) (3.7)\n",
      "Requirement already satisfied: urllib3<3,>=1.21.1 in c:\\users\\sc051\\anaconda3\\lib\\site-packages (from requests->python-twitter) (2.2.2)\n",
      "Requirement already satisfied: certifi>=2017.4.17 in c:\\users\\sc051\\anaconda3\\lib\\site-packages (from requests->python-twitter) (2024.8.30)\n",
      "Collecting oauthlib>=3.0.0 (from requests-oauthlib->python-twitter)\n",
      "  Downloading oauthlib-3.2.2-py3-none-any.whl.metadata (7.5 kB)\n",
      "Downloading python_twitter-3.5-py2.py3-none-any.whl (67 kB)\n",
      "   ---------------------------------------- 0.0/67.4 kB ? eta -:--:--\n",
      "   ---------------------------------------- 67.4/67.4 kB 3.6 MB/s eta 0:00:00\n",
      "Downloading future-1.0.0-py3-none-any.whl (491 kB)\n",
      "   ---------------------------------------- 0.0/491.3 kB ? eta -:--:--\n",
      "   --------------------------------------- 491.3/491.3 kB 15.5 MB/s eta 0:00:00\n",
      "Downloading requests_oauthlib-2.0.0-py2.py3-none-any.whl (24 kB)\n",
      "Downloading oauthlib-3.2.2-py3-none-any.whl (151 kB)\n",
      "   ---------------------------------------- 0.0/151.7 kB ? eta -:--:--\n",
      "   ---------------------------------------- 151.7/151.7 kB 8.8 MB/s eta 0:00:00\n",
      "Installing collected packages: oauthlib, future, requests-oauthlib, python-twitter\n",
      "Successfully installed future-1.0.0 oauthlib-3.2.2 python-twitter-3.5 requests-oauthlib-2.0.0\n",
      "Note: you may need to restart the kernel to use updated packages.\n"
     ]
    }
   ],
   "source": [
    "pip install python-twitter"
   ]
  },
  {
   "cell_type": "code",
   "execution_count": 9,
   "id": "fc24b68f-5e78-45c1-b25b-7b4508482374",
   "metadata": {},
   "outputs": [
    {
     "name": "stdout",
     "output_type": "stream",
     "text": [
      "Collecting django-environ\n",
      "  Downloading django_environ-0.11.2-py2.py3-none-any.whl.metadata (11 kB)\n",
      "Downloading django_environ-0.11.2-py2.py3-none-any.whl (19 kB)\n",
      "Installing collected packages: django-environ\n",
      "Successfully installed django-environ-0.11.2\n",
      "Note: you may need to restart the kernel to use updated packages.\n"
     ]
    }
   ],
   "source": [
    "pip install django-environ"
   ]
  },
  {
   "cell_type": "code",
   "execution_count": 5,
   "id": "449af9dd-0d2b-4e01-bdb8-e483bdd354c2",
   "metadata": {},
   "outputs": [],
   "source": [
    "# API_Key = \"soGou3bYdqSlfG26oQLmhQoZj\"\n",
    "# API_Key_Secret = \"XKOWgidgQPdkdU9Hq90RA7krgiXeZHU5rmVGj3jukRJ2BnQaPs\"\n",
    "# Access_Token = \"1827759060432912385-xP3p780IQj5D1egCdlFddyHsiZNUip\"\n",
    "# Access_Token_Secret = \"Kc5ENUS5U9oJNZ0iXy1koMRK97V7OZT1Lb5CrlnsmiWbC\""
   ]
  },
  {
   "cell_type": "code",
   "execution_count": 22,
   "id": "1e5f0a4a-9426-4ad4-8711-e4e924ef7f87",
   "metadata": {},
   "outputs": [],
   "source": [
    "from pathlib import Path\n",
    "import os\n",
    "import environ\n",
    "\n",
    "# Jupyter Notebook에서의 BASE_DIR 설정\n",
    "BASE_DIR = Path.cwd()\n",
    "env = environ.Env(\n",
    "    DEBUG=(bool, False)\n",
    ")\n",
    "environ.Env.read_env(os.path.join(BASE_DIR, '.env'))\n",
    "\n",
    "# main code start\n",
    "import twitter\n",
    "import time\n",
    "\n",
    "# twitter api connect\n",
    "API_key = env('API_key')\n",
    "API_Key_secret = env('API_Key_secret')\n",
    "Access_token = env('Access_token')\n",
    "Access_token_secret = env('Access_token_secret')\n",
    "\n",
    "twitter_api = twitter.Api(\n",
    "    consumer_key=API_key,\n",
    "    consumer_secret=API_Key_secret,\n",
    "    access_token_key=Access_token,\n",
    "    access_token_secret=Access_token_secret\n",
    ")"
   ]
  },
  {
   "cell_type": "code",
   "execution_count": 28,
   "id": "52b8c64e-45df-492f-add2-e7e10a595f2f",
   "metadata": {},
   "outputs": [
    {
     "ename": "TwitterError",
     "evalue": "[{'message': 'You currently have access to a subset of Twitter API v2 endpoints and limited v1.1 endpoints (e.g. media post, oauth) only. If you need access to this endpoint, you may need a different access level. You can learn more here: https://developer.twitter.com/en/portal/product', 'code': 453}]",
     "output_type": "error",
     "traceback": [
      "\u001b[1;31m---------------------------------------------------------------------------\u001b[0m",
      "\u001b[1;31mTwitterError\u001b[0m                              Traceback (most recent call last)",
      "Cell \u001b[1;32mIn[28], line 2\u001b[0m\n\u001b[0;32m      1\u001b[0m query \u001b[38;5;241m=\u001b[39m \u001b[38;5;124m\"\u001b[39m\u001b[38;5;124m일기 추천\u001b[39m\u001b[38;5;124m\"\u001b[39m\n\u001b[1;32m----> 2\u001b[0m search \u001b[38;5;241m=\u001b[39m \u001b[43mtwitter_api\u001b[49m\u001b[38;5;241;43m.\u001b[39;49m\u001b[43mGetSearch\u001b[49m\u001b[43m(\u001b[49m\u001b[43mterm\u001b[49m\u001b[38;5;241;43m=\u001b[39;49m\u001b[43mquery\u001b[49m\u001b[43m,\u001b[49m\u001b[43m \u001b[49m\u001b[43mcount\u001b[49m\u001b[38;5;241;43m=\u001b[39;49m\u001b[38;5;241;43m100\u001b[39;49m\u001b[43m)\u001b[49m\n\u001b[0;32m      4\u001b[0m \u001b[38;5;28;01mfor\u001b[39;00m i \u001b[38;5;129;01min\u001b[39;00m search:\n\u001b[0;32m      5\u001b[0m     \u001b[38;5;28mprint\u001b[39m(i\u001b[38;5;241m.\u001b[39mtext)\n",
      "File \u001b[1;32m~\\anaconda3\\Lib\\site-packages\\twitter\\api.py:530\u001b[0m, in \u001b[0;36mApi.GetSearch\u001b[1;34m(self, term, raw_query, geocode, since_id, max_id, until, since, count, lang, locale, result_type, include_entities, return_json)\u001b[0m\n\u001b[0;32m    527\u001b[0m \u001b[38;5;28;01melse\u001b[39;00m:\n\u001b[0;32m    528\u001b[0m     resp \u001b[38;5;241m=\u001b[39m \u001b[38;5;28mself\u001b[39m\u001b[38;5;241m.\u001b[39m_RequestUrl(url, \u001b[38;5;124m'\u001b[39m\u001b[38;5;124mGET\u001b[39m\u001b[38;5;124m'\u001b[39m, data\u001b[38;5;241m=\u001b[39mparameters)\n\u001b[1;32m--> 530\u001b[0m data \u001b[38;5;241m=\u001b[39m \u001b[38;5;28;43mself\u001b[39;49m\u001b[38;5;241;43m.\u001b[39;49m\u001b[43m_ParseAndCheckTwitter\u001b[49m\u001b[43m(\u001b[49m\u001b[43mresp\u001b[49m\u001b[38;5;241;43m.\u001b[39;49m\u001b[43mcontent\u001b[49m\u001b[38;5;241;43m.\u001b[39;49m\u001b[43mdecode\u001b[49m\u001b[43m(\u001b[49m\u001b[38;5;124;43m'\u001b[39;49m\u001b[38;5;124;43mutf-8\u001b[39;49m\u001b[38;5;124;43m'\u001b[39;49m\u001b[43m)\u001b[49m\u001b[43m)\u001b[49m\n\u001b[0;32m    531\u001b[0m \u001b[38;5;28;01mif\u001b[39;00m return_json:\n\u001b[0;32m    532\u001b[0m     \u001b[38;5;28;01mreturn\u001b[39;00m data\n",
      "File \u001b[1;32m~\\anaconda3\\Lib\\site-packages\\twitter\\api.py:4908\u001b[0m, in \u001b[0;36mApi._ParseAndCheckTwitter\u001b[1;34m(self, json_data)\u001b[0m\n\u001b[0;32m   4906\u001b[0m         \u001b[38;5;28;01mraise\u001b[39;00m TwitterError({\u001b[38;5;124m'\u001b[39m\u001b[38;5;124mmessage\u001b[39m\u001b[38;5;124m'\u001b[39m: \u001b[38;5;124m\"\u001b[39m\u001b[38;5;124mUnauthorized\u001b[39m\u001b[38;5;124m\"\u001b[39m})\n\u001b[0;32m   4907\u001b[0m     \u001b[38;5;28;01mraise\u001b[39;00m TwitterError({\u001b[38;5;124m'\u001b[39m\u001b[38;5;124mUnknown error\u001b[39m\u001b[38;5;124m'\u001b[39m: \u001b[38;5;124m'\u001b[39m\u001b[38;5;132;01m{0}\u001b[39;00m\u001b[38;5;124m'\u001b[39m\u001b[38;5;241m.\u001b[39mformat(json_data)})\n\u001b[1;32m-> 4908\u001b[0m \u001b[38;5;28;43mself\u001b[39;49m\u001b[38;5;241;43m.\u001b[39;49m\u001b[43m_CheckForTwitterError\u001b[49m\u001b[43m(\u001b[49m\u001b[43mdata\u001b[49m\u001b[43m)\u001b[49m\n\u001b[0;32m   4909\u001b[0m \u001b[38;5;28;01mreturn\u001b[39;00m data\n",
      "File \u001b[1;32m~\\anaconda3\\Lib\\site-packages\\twitter\\api.py:4928\u001b[0m, in \u001b[0;36mApi._CheckForTwitterError\u001b[1;34m(data)\u001b[0m\n\u001b[0;32m   4926\u001b[0m     \u001b[38;5;28;01mraise\u001b[39;00m TwitterError(data[\u001b[38;5;124m'\u001b[39m\u001b[38;5;124merror\u001b[39m\u001b[38;5;124m'\u001b[39m])\n\u001b[0;32m   4927\u001b[0m \u001b[38;5;28;01mif\u001b[39;00m \u001b[38;5;124m'\u001b[39m\u001b[38;5;124merrors\u001b[39m\u001b[38;5;124m'\u001b[39m \u001b[38;5;129;01min\u001b[39;00m data:\n\u001b[1;32m-> 4928\u001b[0m     \u001b[38;5;28;01mraise\u001b[39;00m TwitterError(data[\u001b[38;5;124m'\u001b[39m\u001b[38;5;124merrors\u001b[39m\u001b[38;5;124m'\u001b[39m])\n",
      "\u001b[1;31mTwitterError\u001b[0m: [{'message': 'You currently have access to a subset of Twitter API v2 endpoints and limited v1.1 endpoints (e.g. media post, oauth) only. If you need access to this endpoint, you may need a different access level. You can learn more here: https://developer.twitter.com/en/portal/product', 'code': 453}]"
     ]
    }
   ],
   "source": [
    "# query = \"일기 추천\"\n",
    "# search = twitter_api.GetSearch(term=query, count=100)\n",
    "\n",
    "# for i in search:\n",
    "#     print(i.text)\n",
    "\n",
    "# V1.1에서만 되던 것이라 오류 발"
   ]
  },
  {
   "cell_type": "code",
   "execution_count": 32,
   "id": "e6df487b-c0d2-4393-9f4d-f88420fa670e",
   "metadata": {},
   "outputs": [
    {
     "name": "stdout",
     "output_type": "stream",
     "text": [
      "Collecting tweepy\n",
      "  Downloading tweepy-4.14.0-py3-none-any.whl.metadata (3.8 kB)\n",
      "Requirement already satisfied: oauthlib<4,>=3.2.0 in c:\\users\\sc051\\anaconda3\\lib\\site-packages (from tweepy) (3.2.2)\n",
      "Requirement already satisfied: requests<3,>=2.27.0 in c:\\users\\sc051\\anaconda3\\lib\\site-packages (from tweepy) (2.32.2)\n",
      "Collecting requests-oauthlib<2,>=1.2.0 (from tweepy)\n",
      "  Downloading requests_oauthlib-1.3.1-py2.py3-none-any.whl.metadata (10 kB)\n",
      "Requirement already satisfied: charset-normalizer<4,>=2 in c:\\users\\sc051\\anaconda3\\lib\\site-packages (from requests<3,>=2.27.0->tweepy) (2.0.4)\n",
      "Requirement already satisfied: idna<4,>=2.5 in c:\\users\\sc051\\anaconda3\\lib\\site-packages (from requests<3,>=2.27.0->tweepy) (3.7)\n",
      "Requirement already satisfied: urllib3<3,>=1.21.1 in c:\\users\\sc051\\anaconda3\\lib\\site-packages (from requests<3,>=2.27.0->tweepy) (2.2.2)\n",
      "Requirement already satisfied: certifi>=2017.4.17 in c:\\users\\sc051\\anaconda3\\lib\\site-packages (from requests<3,>=2.27.0->tweepy) (2024.8.30)\n",
      "Downloading tweepy-4.14.0-py3-none-any.whl (98 kB)\n",
      "   ---------------------------------------- 0.0/98.5 kB ? eta -:--:--\n",
      "   ------------ --------------------------- 30.7/98.5 kB 1.3 MB/s eta 0:00:01\n",
      "   ---------------------------------------- 98.5/98.5 kB 1.4 MB/s eta 0:00:00\n",
      "Downloading requests_oauthlib-1.3.1-py2.py3-none-any.whl (23 kB)\n",
      "Installing collected packages: requests-oauthlib, tweepy\n",
      "  Attempting uninstall: requests-oauthlib\n",
      "    Found existing installation: requests-oauthlib 2.0.0\n",
      "    Uninstalling requests-oauthlib-2.0.0:\n",
      "      Successfully uninstalled requests-oauthlib-2.0.0\n",
      "Successfully installed requests-oauthlib-1.3.1 tweepy-4.14.0\n",
      "Note: you may need to restart the kernel to use updated packages.\n"
     ]
    }
   ],
   "source": [
    "pip install tweepy"
   ]
  },
  {
   "cell_type": "code",
   "execution_count": 1,
   "id": "d67e8db3-c131-4b94-8c3b-1c46fd9f7370",
   "metadata": {},
   "outputs": [
    {
     "ename": "ImproperlyConfigured",
     "evalue": "Set the TWITTER_BEARER_TOKEN environment variable",
     "output_type": "error",
     "traceback": [
      "\u001b[1;31m---------------------------------------------------------------------------\u001b[0m",
      "\u001b[1;31mKeyError\u001b[0m                                  Traceback (most recent call last)",
      "File \u001b[1;32m~\\anaconda3\\Lib\\site-packages\\environ\\environ.py:388\u001b[0m, in \u001b[0;36mEnv.get_value\u001b[1;34m(self, var, cast, default, parse_default)\u001b[0m\n\u001b[0;32m    387\u001b[0m \u001b[38;5;28;01mtry\u001b[39;00m:\n\u001b[1;32m--> 388\u001b[0m     value \u001b[38;5;241m=\u001b[39m \u001b[38;5;28;43mself\u001b[39;49m\u001b[38;5;241;43m.\u001b[39;49m\u001b[43mENVIRON\u001b[49m\u001b[43m[\u001b[49m\u001b[43mvar_name\u001b[49m\u001b[43m]\u001b[49m\n\u001b[0;32m    389\u001b[0m \u001b[38;5;28;01mexcept\u001b[39;00m \u001b[38;5;167;01mKeyError\u001b[39;00m \u001b[38;5;28;01mas\u001b[39;00m exc:\n",
      "File \u001b[1;32m<frozen os>:714\u001b[0m, in \u001b[0;36m__getitem__\u001b[1;34m(self, key)\u001b[0m\n",
      "\u001b[1;31mKeyError\u001b[0m: 'TWITTER_BEARER_TOKEN'",
      "\nThe above exception was the direct cause of the following exception:\n",
      "\u001b[1;31mImproperlyConfigured\u001b[0m                      Traceback (most recent call last)",
      "Cell \u001b[1;32mIn[1], line 10\u001b[0m\n\u001b[0;32m      7\u001b[0m environ\u001b[38;5;241m.\u001b[39mEnv\u001b[38;5;241m.\u001b[39mread_env()\n\u001b[0;32m      9\u001b[0m \u001b[38;5;66;03m# Twitter API 인증\u001b[39;00m\n\u001b[1;32m---> 10\u001b[0m bearer_token \u001b[38;5;241m=\u001b[39m \u001b[43menv\u001b[49m\u001b[43m(\u001b[49m\u001b[38;5;124;43m\"\u001b[39;49m\u001b[38;5;124;43mTWITTER_BEARER_TOKEN\u001b[39;49m\u001b[38;5;124;43m\"\u001b[39;49m\u001b[43m)\u001b[49m\n\u001b[0;32m     12\u001b[0m client \u001b[38;5;241m=\u001b[39m tweepy\u001b[38;5;241m.\u001b[39mClient(bearer_token\u001b[38;5;241m=\u001b[39mbearer_token)\n\u001b[0;32m     14\u001b[0m \u001b[38;5;66;03m# 검색 쿼리\u001b[39;00m\n",
      "File \u001b[1;32m~\\anaconda3\\Lib\\site-packages\\environ\\environ.py:199\u001b[0m, in \u001b[0;36mEnv.__call__\u001b[1;34m(self, var, cast, default, parse_default)\u001b[0m\n\u001b[0;32m    198\u001b[0m \u001b[38;5;28;01mdef\u001b[39;00m \u001b[38;5;21m__call__\u001b[39m(\u001b[38;5;28mself\u001b[39m, var, cast\u001b[38;5;241m=\u001b[39m\u001b[38;5;28;01mNone\u001b[39;00m, default\u001b[38;5;241m=\u001b[39mNOTSET, parse_default\u001b[38;5;241m=\u001b[39m\u001b[38;5;28;01mFalse\u001b[39;00m):\n\u001b[1;32m--> 199\u001b[0m     \u001b[38;5;28;01mreturn\u001b[39;00m \u001b[38;5;28;43mself\u001b[39;49m\u001b[38;5;241;43m.\u001b[39;49m\u001b[43mget_value\u001b[49m\u001b[43m(\u001b[49m\n\u001b[0;32m    200\u001b[0m \u001b[43m        \u001b[49m\u001b[43mvar\u001b[49m\u001b[43m,\u001b[49m\n\u001b[0;32m    201\u001b[0m \u001b[43m        \u001b[49m\u001b[43mcast\u001b[49m\u001b[38;5;241;43m=\u001b[39;49m\u001b[43mcast\u001b[49m\u001b[43m,\u001b[49m\n\u001b[0;32m    202\u001b[0m \u001b[43m        \u001b[49m\u001b[43mdefault\u001b[49m\u001b[38;5;241;43m=\u001b[39;49m\u001b[43mdefault\u001b[49m\u001b[43m,\u001b[49m\n\u001b[0;32m    203\u001b[0m \u001b[43m        \u001b[49m\u001b[43mparse_default\u001b[49m\u001b[38;5;241;43m=\u001b[39;49m\u001b[43mparse_default\u001b[49m\n\u001b[0;32m    204\u001b[0m \u001b[43m    \u001b[49m\u001b[43m)\u001b[49m\n",
      "File \u001b[1;32m~\\anaconda3\\Lib\\site-packages\\environ\\environ.py:392\u001b[0m, in \u001b[0;36mEnv.get_value\u001b[1;34m(self, var, cast, default, parse_default)\u001b[0m\n\u001b[0;32m    390\u001b[0m     \u001b[38;5;28;01mif\u001b[39;00m default \u001b[38;5;129;01mis\u001b[39;00m \u001b[38;5;28mself\u001b[39m\u001b[38;5;241m.\u001b[39mNOTSET:\n\u001b[0;32m    391\u001b[0m         error_msg \u001b[38;5;241m=\u001b[39m \u001b[38;5;124mf\u001b[39m\u001b[38;5;124m'\u001b[39m\u001b[38;5;124mSet the \u001b[39m\u001b[38;5;132;01m{\u001b[39;00mvar\u001b[38;5;132;01m}\u001b[39;00m\u001b[38;5;124m environment variable\u001b[39m\u001b[38;5;124m'\u001b[39m\n\u001b[1;32m--> 392\u001b[0m         \u001b[38;5;28;01mraise\u001b[39;00m ImproperlyConfigured(error_msg) \u001b[38;5;28;01mfrom\u001b[39;00m \u001b[38;5;21;01mexc\u001b[39;00m\n\u001b[0;32m    394\u001b[0m     value \u001b[38;5;241m=\u001b[39m default\n\u001b[0;32m    396\u001b[0m \u001b[38;5;66;03m# Resolve any proxied values\u001b[39;00m\n",
      "\u001b[1;31mImproperlyConfigured\u001b[0m: Set the TWITTER_BEARER_TOKEN environment variable"
     ]
    }
   ],
   "source": [
    "import os\n",
    "import tweepy\n",
    "import environ\n",
    "\n",
    "# 환경 변수 설정\n",
    "env = environ.Env()\n",
    "environ.Env.read_env()\n",
    "\n",
    "# Twitter API 인증\n",
    "bearer_token = env(\"TWITTER_BEARER_TOKEN\")\n",
    "\n",
    "client = tweepy.Client(bearer_token=bearer_token)\n",
    "\n",
    "# 검색 쿼리\n",
    "query = \"일기 추천\"\n",
    "tweets = client.search_recent_tweets(query=query, max_results=100)\n",
    "\n",
    "for tweet in tweets.data:\n",
    "    print(tweet.text)"
   ]
  },
  {
   "cell_type": "code",
   "execution_count": 3,
   "id": "096bff93-f448-47a0-a233-ab7759c64537",
   "metadata": {},
   "outputs": [
    {
     "name": "stdout",
     "output_type": "stream",
     "text": [
      "None\n"
     ]
    }
   ],
   "source": [
    "import os\n",
    "print(os.getenv(\"TWITTER_BEARER_TOKEN\"))"
   ]
  },
  {
   "cell_type": "code",
   "execution_count": 5,
   "id": "87b1e8ef-d879-45e4-ba68-9fc79e3fc112",
   "metadata": {},
   "outputs": [
    {
     "name": "stdout",
     "output_type": "stream",
     "text": [
      "Requirement already satisfied: python-dotenv in c:\\users\\sc051\\anaconda3\\lib\\site-packages (0.21.0)\n",
      "Note: you may need to restart the kernel to use updated packages.\n"
     ]
    }
   ],
   "source": [
    "pip install python-dotenv"
   ]
  },
  {
   "cell_type": "code",
   "execution_count": 14,
   "id": "e5213b3e-2bfc-41c1-abfc-bcf73f8a5852",
   "metadata": {},
   "outputs": [
    {
     "name": "stdout",
     "output_type": "stream",
     "text": [
      "API rate limit exceeded. Waiting before retrying...\n",
      "다른 오류 발생: 503 Service Unavailable\n",
      "Service Unavailable\n"
     ]
    }
   ],
   "source": [
    "import os\n",
    "import time\n",
    "from dotenv import load_dotenv\n",
    "\n",
    "# .env 파일 불러오기\n",
    "load_dotenv()\n",
    "\n",
    "# Twitter API 인증\n",
    "bearer_token = os.getenv(\"TWITTER_BEARER_TOKEN\")\n",
    "\n",
    "import tweepy\n",
    "client = tweepy.Client(bearer_token=bearer_token)\n",
    "\n",
    "# 재시도 로직\n",
    "query = \"일기 추천\"\n",
    "max_attempts = 10  # 최대 시도 횟수\n",
    "attempts = 0\n",
    "\n",
    "while attempts < max_attempts:\n",
    "    try:\n",
    "        tweets = client.search_recent_tweets(query=query, max_results=10)  # max_results를 줄여 호출량을 조절\n",
    "        for tweet in tweets.data:\n",
    "            print(tweet.text)\n",
    "        break  # 성공하면 반복문 종료\n",
    "    except tweepy.TooManyRequests as e:\n",
    "        print(\"API rate limit exceeded. Waiting before retrying...\")\n",
    "        time.sleep(900)  # 15분(900초) 대기하여 API 호출 한도 회복 대기\n",
    "        attempts += 1\n",
    "    except Exception as e:\n",
    "        print(\"다른 오류 발생:\", e)\n",
    "        break  # 다른 오류 발생 시 종료"
   ]
  },
  {
   "cell_type": "code",
   "execution_count": null,
   "id": "9ffdd46d-9fd3-4805-a620-b235dae44f24",
   "metadata": {},
   "outputs": [],
   "source": []
  }
 ],
 "metadata": {
  "kernelspec": {
   "display_name": "Python 3 (ipykernel)",
   "language": "python",
   "name": "python3"
  },
  "language_info": {
   "codemirror_mode": {
    "name": "ipython",
    "version": 3
   },
   "file_extension": ".py",
   "mimetype": "text/x-python",
   "name": "python",
   "nbconvert_exporter": "python",
   "pygments_lexer": "ipython3",
   "version": "3.12.4"
  }
 },
 "nbformat": 4,
 "nbformat_minor": 5
}
