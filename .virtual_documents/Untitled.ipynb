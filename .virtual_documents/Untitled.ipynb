pip install python-twitter


pip install django-environ


# API_Key = "soGou3bYdqSlfG26oQLmhQoZj"
# API_Key_Secret = "XKOWgidgQPdkdU9Hq90RA7krgiXeZHU5rmVGj3jukRJ2BnQaPs"
# Access_Token = "1827759060432912385-xP3p780IQj5D1egCdlFddyHsiZNUip"
# Access_Token_Secret = "Kc5ENUS5U9oJNZ0iXy1koMRK97V7OZT1Lb5CrlnsmiWbC"


from pathlib import Path
import os
import environ

# Jupyter Notebook에서의 BASE_DIR 설정
BASE_DIR = Path.cwd()
env = environ.Env(
    DEBUG=(bool, False)
)
environ.Env.read_env(os.path.join(BASE_DIR, '.env'))

# main code start
import twitter
import time

# twitter api connect
API_key = env('API_key')
API_Key_secret = env('API_Key_secret')
Access_token = env('Access_token')
Access_token_secret = env('Access_token_secret')

twitter_api = twitter.Api(
    consumer_key=API_key,
    consumer_secret=API_Key_secret,
    access_token_key=Access_token,
    access_token_secret=Access_token_secret
)


# query = "일기 추천"
# search = twitter_api.GetSearch(term=query, count=100)

# for i in search:
#     print(i.text)

# V1.1에서만 되던 것이라 오류 발


pip install tweepy


import os
import tweepy
import environ

# 환경 변수 설정
env = environ.Env()
environ.Env.read_env()

# Twitter API 인증
bearer_token = env("TWITTER_BEARER_TOKEN")

client = tweepy.Client(bearer_token=bearer_token)

# 검색 쿼리
query = "일기 추천"
tweets = client.search_recent_tweets(query=query, max_results=100)

for tweet in tweets.data:
    print(tweet.text)


import os
print(os.getenv("TWITTER_BEARER_TOKEN"))


pip install python-dotenv


import os
import time
from dotenv import load_dotenv

# .env 파일 불러오기
load_dotenv()

# Twitter API 인증
bearer_token = os.getenv("TWITTER_BEARER_TOKEN")

import tweepy
client = tweepy.Client(bearer_token=bearer_token)

# 재시도 로직
query = "일기 추천"
max_attempts = 10  # 최대 시도 횟수
attempts = 0

while attempts < max_attempts:
    try:
        tweets = client.search_recent_tweets(query=query, max_results=10)  # max_results를 줄여 호출량을 조절
        for tweet in tweets.data:
            print(tweet.text)
        break  # 성공하면 반복문 종료
    except tweepy.TooManyRequests as e:
        print("API rate limit exceeded. Waiting before retrying...")
        time.sleep(900)  # 15분(900초) 대기하여 API 호출 한도 회복 대기
        attempts += 1
    except Exception as e:
        print("다른 오류 발생:", e)
        break  # 다른 오류 발생 시 종료



